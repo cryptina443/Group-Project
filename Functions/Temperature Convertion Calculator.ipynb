{
 "cells": [
  {
   "cell_type": "code",
   "execution_count": 3,
   "metadata": {},
   "outputs": [
    {
     "name": "stdout",
     "output_type": "stream",
     "text": [
      "-25 degrees F is -31.666666666666668 degrees C\n"
     ]
    }
   ],
   "source": [
    "def temprature_convertion(temp_scales, temp_source):\n",
    "    \n",
    "    while temp_scales == \"F\":\n",
    "        return(temp_source - 32.0) * (5.0/9.0)\n",
    "    \n",
    "    if temp_scales == \"C\":\n",
    "        return(temp_source * (9.0/5.0)) + 32.0\n",
    "    \n",
    "    \n",
    "temp_scales = input(\"Select (Fahrenheit) or (Celsius) as (F) or (C): \" )\n",
    "\n",
    "while temp_scales not in (\"F\", \"C\"):\n",
    "    temp_scales = input(\"Select (Fahrenheit) or (Celsius) as (F) or (C): \") # The pourpuse of this loop is to avoid closing the program \n",
    "    print(\"Your selection is invalid and it needs to be (F) or (C)\")        #and keep asking the user to enter the letters F or C otherwise it will keep printing\n",
    "\n",
    "temp_source = int(input(\"What is the temperature you are trying to convert: \" ))\n",
    "\n",
    "defined_funtion = temprature_convertion(temp_scales, temp_source)\n",
    "\n",
    "#This if elif statement is to print the correct information on display. If instead we use the print in one line like this print(source_temp, \"degrees\", temp_scales, \"is\", defined_funtion, \"degrees\", temp_scales) then the output\n",
    "#with the letters indicating F or C will repeat and not print correctly. Doing an If elif statement we can change the output depending on the users input.\n",
    "if temp_scales == \"F\":\n",
    "    print(f'{temp_source} degrees F is {defined_funtion} degrees C')\n",
    "elif temp_scales == \"C\":\n",
    "    print(f'{temp_source} degrees C is {defined_funtion} degrees F')"
   ]
  }
 ],
 "metadata": {
  "kernelspec": {
   "display_name": "Python 3.9.7 ('base')",
   "language": "python",
   "name": "python3"
  },
  "language_info": {
   "codemirror_mode": {
    "name": "ipython",
    "version": 3
   },
   "file_extension": ".py",
   "mimetype": "text/x-python",
   "name": "python",
   "nbconvert_exporter": "python",
   "pygments_lexer": "ipython3",
   "version": "3.9.7"
  },
  "orig_nbformat": 4,
  "vscode": {
   "interpreter": {
    "hash": "7e22136019ad3cc21914fc1e69fbdecf01aa702ccce5e0696df07dfa08e0c67d"
   }
  }
 },
 "nbformat": 4,
 "nbformat_minor": 2
}
